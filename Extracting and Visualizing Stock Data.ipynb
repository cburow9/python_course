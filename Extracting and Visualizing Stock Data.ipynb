{
    "cells": [
        {
            "metadata": {},
            "cell_type": "markdown",
            "source": "<center>\n    <img src=\"https://s3-api.us-geo.objectstorage.softlayer.net/cf-courses-data/CognitiveClass/Logos/organization_logo/organization_logo.png\" width=\"300\" alt=\"cognitiveclass.ai logo\"  />\n</center>\n"
        },
        {
            "metadata": {},
            "cell_type": "markdown",
            "source": "<h1>Extracting and Visualizing Stock Data</h1>\n<h2>Description</h2>\n"
        },
        {
            "metadata": {},
            "cell_type": "markdown",
            "source": "Extracting essential data from a dataset and displaying it is a necessary part of data science; therefore individuals can make correct decisions based on the data. In this assignment, you will extract some stock data, you will then display this data in a graph.\n"
        },
        {
            "metadata": {},
            "cell_type": "markdown",
            "source": "<h2>Table of Contents</h2>\n<div class=\"alert alert-block alert-info\" style=\"margin-top: 20px\">\n    <ul>\n        <li>Define a Function that Makes a Graph</li>\n        <li>Question 1: Use yfinance to Extract Stock Data</li>\n        <li>Question 2: Use Webscraping to Extract Tesla Revenue Data</li>\n        <li>Question 3: Use yfinance to Extract Stock Data</li>\n        <li>Question 4: Use Webscraping to Extract GME Revenue Data</li>\n        <li>Question 5: Plot Tesla Stock Graph</li>\n        <li>Question 6: Plot GameStop Stock Graph</li>\n    </ul>\n<p>\n    Estimated Time Needed: <strong>30 min</strong></p>\n</div>\n\n<hr>\n"
        },
        {
            "metadata": {},
            "cell_type": "code",
            "source": "!pip install yfinance\n#!pip install pandas\n#!pip install requests\n!pip install bs4\n#!pip install plotly",
            "execution_count": 1,
            "outputs": [
                {
                    "output_type": "stream",
                    "text": "Collecting yfinance\n  Downloading yfinance-0.1.67-py2.py3-none-any.whl (25 kB)\nRequirement already satisfied: numpy>=1.15 in /opt/conda/envs/Python-3.8-main/lib/python3.8/site-packages (from yfinance) (1.19.2)\nRequirement already satisfied: requests>=2.20 in /opt/conda/envs/Python-3.8-main/lib/python3.8/site-packages (from yfinance) (2.25.1)\nRequirement already satisfied: lxml>=4.5.1 in /opt/conda/envs/Python-3.8-main/lib/python3.8/site-packages (from yfinance) (4.6.3)\nRequirement already satisfied: pandas>=0.24 in /opt/conda/envs/Python-3.8-main/lib/python3.8/site-packages (from yfinance) (1.2.4)\nCollecting multitasking>=0.0.7\n  Downloading multitasking-0.0.10.tar.gz (8.2 kB)\nRequirement already satisfied: python-dateutil>=2.7.3 in /opt/conda/envs/Python-3.8-main/lib/python3.8/site-packages (from pandas>=0.24->yfinance) (2.8.1)\nRequirement already satisfied: pytz>=2017.3 in /opt/conda/envs/Python-3.8-main/lib/python3.8/site-packages (from pandas>=0.24->yfinance) (2021.1)\nRequirement already satisfied: six>=1.5 in /opt/conda/envs/Python-3.8-main/lib/python3.8/site-packages (from python-dateutil>=2.7.3->pandas>=0.24->yfinance) (1.15.0)\nRequirement already satisfied: idna<3,>=2.5 in /opt/conda/envs/Python-3.8-main/lib/python3.8/site-packages (from requests>=2.20->yfinance) (2.8)\nRequirement already satisfied: chardet<5,>=3.0.2 in /opt/conda/envs/Python-3.8-main/lib/python3.8/site-packages (from requests>=2.20->yfinance) (3.0.4)\nRequirement already satisfied: urllib3<1.27,>=1.21.1 in /opt/conda/envs/Python-3.8-main/lib/python3.8/site-packages (from requests>=2.20->yfinance) (1.26.6)\nRequirement already satisfied: certifi>=2017.4.17 in /opt/conda/envs/Python-3.8-main/lib/python3.8/site-packages (from requests>=2.20->yfinance) (2021.10.8)\nBuilding wheels for collected packages: multitasking\n  Building wheel for multitasking (setup.py) ... \u001b[?25ldone\n\u001b[?25h  Created wheel for multitasking: filename=multitasking-0.0.10-py3-none-any.whl size=8487 sha256=bf697a33d015dc6d6002a7bc38ba4adf614fb66216e15e6029c366a4fd26240f\n  Stored in directory: /tmp/wsuser/.cache/pip/wheels/21/c9/66/b41c847de65c7985db52ec21d59996841598b8b0e93f2b9500\nSuccessfully built multitasking\nInstalling collected packages: multitasking, yfinance\nSuccessfully installed multitasking-0.0.10 yfinance-0.1.67\nCollecting bs4\n  Downloading bs4-0.0.1.tar.gz (1.1 kB)\nRequirement already satisfied: beautifulsoup4 in /opt/conda/envs/Python-3.8-main/lib/python3.8/site-packages (from bs4) (4.9.3)\nRequirement already satisfied: soupsieve>1.2 in /opt/conda/envs/Python-3.8-main/lib/python3.8/site-packages (from beautifulsoup4->bs4) (2.2.1)\nBuilding wheels for collected packages: bs4\n  Building wheel for bs4 (setup.py) ... \u001b[?25ldone\n\u001b[?25h  Created wheel for bs4: filename=bs4-0.0.1-py3-none-any.whl size=1273 sha256=3123785db3aa18a4e8c59c0eba6911f3a5c2bcb4db40e4f2cb9d6e08dc7299e7\n  Stored in directory: /tmp/wsuser/.cache/pip/wheels/75/78/21/68b124549c9bdc94f822c02fb9aa3578a669843f9767776bca\nSuccessfully built bs4\nInstalling collected packages: bs4\nSuccessfully installed bs4-0.0.1\n",
                    "name": "stdout"
                }
            ]
        },
        {
            "metadata": {},
            "cell_type": "code",
            "source": "import yfinance as yf\nimport pandas as pd\nimport requests\nfrom bs4 import BeautifulSoup\nimport plotly.graph_objects as go\nfrom plotly.subplots import make_subplots",
            "execution_count": 2,
            "outputs": []
        },
        {
            "metadata": {},
            "cell_type": "markdown",
            "source": "## Define Graphing Function\n"
        },
        {
            "metadata": {},
            "cell_type": "markdown",
            "source": "In this section, we define the function `make_graph`. You don't have to know how the function works, you should only care about the inputs. It takes a dataframe with stock data (dataframe must contain Date and Close columns), a dataframe with revenue data (dataframe must contain Date and Revenue columns), and the name of the stock.\n"
        },
        {
            "metadata": {},
            "cell_type": "code",
            "source": "def make_graph(stock_data, revenue_data, stock):\n    fig = make_subplots(rows=2, cols=1, shared_xaxes=True, subplot_titles=(\"Historical Share Price\", \"Historical Revenue\"), vertical_spacing = .3)\n    stock_data_specific = stock_data[stock_data.Date <= '2021--06-14']\n    revenue_data_specific = revenue_data[revenue_data.Date <= '2021-04-30']\n    fig.add_trace(go.Scatter(x=pd.to_datetime(stock_data_specific.Date, infer_datetime_format=True), y=stock_data_specific.Close.astype(\"float\"), name=\"Share Price\"), row=1, col=1)\n    fig.add_trace(go.Scatter(x=pd.to_datetime(revenue_data_specific.Date, infer_datetime_format=True), y=revenue_data_specific.Revenue.astype(\"float\"), name=\"Revenue\"), row=2, col=1)\n    fig.update_xaxes(title_text=\"Date\", row=1, col=1)\n    fig.update_xaxes(title_text=\"Date\", row=2, col=1)\n    fig.update_yaxes(title_text=\"Price ($US)\", row=1, col=1)\n    fig.update_yaxes(title_text=\"Revenue ($US Millions)\", row=2, col=1)\n    fig.update_layout(showlegend=False,\n    height=900,\n    title=stock,\n    xaxis_rangeslider_visible=True)\n    fig.show()",
            "execution_count": 55,
            "outputs": []
        },
        {
            "metadata": {},
            "cell_type": "markdown",
            "source": "## Question 1: Use yfinance to Extract Stock Data\n"
        },
        {
            "metadata": {},
            "cell_type": "markdown",
            "source": "Using the `Ticker` function enter the ticker symbol of the stock we want to extract data on to create a ticker object. The stock is Tesla and its ticker symbol is `TSLA`.\n"
        },
        {
            "metadata": {},
            "cell_type": "code",
            "source": "Tesla = yf.Ticker(\"TSLA\")",
            "execution_count": 4,
            "outputs": []
        },
        {
            "metadata": {},
            "cell_type": "markdown",
            "source": "Using the ticker object and the function `history` extract stock information and save it in a dataframe named `tesla_data`. Set the `period` parameter to `max` so we get information for the maximum amount of time.\n"
        },
        {
            "metadata": {},
            "cell_type": "code",
            "source": "tesla_data = Tesla.history(period=\"max\")",
            "execution_count": 5,
            "outputs": []
        },
        {
            "metadata": {},
            "cell_type": "markdown",
            "source": "**Reset the index** using the `reset_index(inplace=True)` function on the tesla_data DataFrame and display the first five rows of the `tesla_data` dataframe using the `head` function. Take a screenshot of the results and code from the beginning of Question 1 to the results below.\n"
        },
        {
            "metadata": {},
            "cell_type": "code",
            "source": "tesla_data.reset_index(inplace=True)\ntesla_data.head()",
            "execution_count": 6,
            "outputs": [
                {
                    "output_type": "execute_result",
                    "execution_count": 6,
                    "data": {
                        "text/plain": "        Date   Open   High    Low  Close    Volume  Dividends  Stock Splits\n0 2010-06-29  3.800  5.000  3.508  4.778  93831500          0           0.0\n1 2010-06-30  5.158  6.084  4.660  4.766  85935500          0           0.0\n2 2010-07-01  5.000  5.184  4.054  4.392  41094000          0           0.0\n3 2010-07-02  4.600  4.620  3.742  3.840  25699000          0           0.0\n4 2010-07-06  4.000  4.000  3.166  3.222  34334500          0           0.0",
                        "text/html": "<div>\n<style scoped>\n    .dataframe tbody tr th:only-of-type {\n        vertical-align: middle;\n    }\n\n    .dataframe tbody tr th {\n        vertical-align: top;\n    }\n\n    .dataframe thead th {\n        text-align: right;\n    }\n</style>\n<table border=\"1\" class=\"dataframe\">\n  <thead>\n    <tr style=\"text-align: right;\">\n      <th></th>\n      <th>Date</th>\n      <th>Open</th>\n      <th>High</th>\n      <th>Low</th>\n      <th>Close</th>\n      <th>Volume</th>\n      <th>Dividends</th>\n      <th>Stock Splits</th>\n    </tr>\n  </thead>\n  <tbody>\n    <tr>\n      <th>0</th>\n      <td>2010-06-29</td>\n      <td>3.800</td>\n      <td>5.000</td>\n      <td>3.508</td>\n      <td>4.778</td>\n      <td>93831500</td>\n      <td>0</td>\n      <td>0.0</td>\n    </tr>\n    <tr>\n      <th>1</th>\n      <td>2010-06-30</td>\n      <td>5.158</td>\n      <td>6.084</td>\n      <td>4.660</td>\n      <td>4.766</td>\n      <td>85935500</td>\n      <td>0</td>\n      <td>0.0</td>\n    </tr>\n    <tr>\n      <th>2</th>\n      <td>2010-07-01</td>\n      <td>5.000</td>\n      <td>5.184</td>\n      <td>4.054</td>\n      <td>4.392</td>\n      <td>41094000</td>\n      <td>0</td>\n      <td>0.0</td>\n    </tr>\n    <tr>\n      <th>3</th>\n      <td>2010-07-02</td>\n      <td>4.600</td>\n      <td>4.620</td>\n      <td>3.742</td>\n      <td>3.840</td>\n      <td>25699000</td>\n      <td>0</td>\n      <td>0.0</td>\n    </tr>\n    <tr>\n      <th>4</th>\n      <td>2010-07-06</td>\n      <td>4.000</td>\n      <td>4.000</td>\n      <td>3.166</td>\n      <td>3.222</td>\n      <td>34334500</td>\n      <td>0</td>\n      <td>0.0</td>\n    </tr>\n  </tbody>\n</table>\n</div>"
                    },
                    "metadata": {}
                }
            ]
        },
        {
            "metadata": {},
            "cell_type": "markdown",
            "source": "## Question 2: Use Webscraping to Extract Tesla Revenue Data\n"
        },
        {
            "metadata": {},
            "cell_type": "markdown",
            "source": "Use the `requests` library to download the webpage [https://www.macrotrends.net/stocks/charts/TSLA/tesla/revenue](https://www.macrotrends.net/stocks/charts/TSLA/tesla/revenue?utm_medium=Exinfluencer&utm_source=Exinfluencer&utm_content=000026UJ&utm_term=10006555&utm_id=NA-SkillsNetwork-Channel-SkillsNetworkCoursesIBMDeveloperSkillsNetworkPY0220ENSkillsNetwork23455606-2021-01-01). Save the text of the response as a variable named `html_data`.\n"
        },
        {
            "metadata": {},
            "cell_type": "code",
            "source": "url = \"https://www.macrotrends.net/stocks/charts/TSLA/tesla/revenue?utm_medium=Exinfluencer&utm_source=Exinfluencer&utm_content=000026UJ&utm_term=10006555&utm_id=NA-SkillsNetwork-Channel-SkillsNetworkCoursesIBMDeveloperSkillsNetworkPY0220ENSkillsNetwork23455606-2021-01-01\"\nhtml_data = requests.get(url).text",
            "execution_count": 7,
            "outputs": []
        },
        {
            "metadata": {},
            "cell_type": "markdown",
            "source": "Parse the html data using `beautiful_soup`.\n"
        },
        {
            "metadata": {},
            "cell_type": "code",
            "source": "soup = BeautifulSoup(html_data,\"html.parser\")",
            "execution_count": 12,
            "outputs": []
        },
        {
            "metadata": {},
            "cell_type": "markdown",
            "source": "Using `BeautifulSoup` or the `read_html` function extract the table with `Tesla Quarterly Revenue` and store it into a dataframe named `tesla_revenue`. The dataframe should have columns `Date` and `Revenue`.\n"
        },
        {
            "metadata": {},
            "cell_type": "markdown",
            "source": "<details><summary>Click here if you need help locating the table</summary>\n\n```\n    \nBelow is the code to isolate the table, you will now need to loop through the rows and columns like in the previous lab\n    \nsoup.find_all(\"tbody\")[1]\n    \nIf you want to use the read_html function the table is located at index 1\n\n\n```\n\n</details>\n"
        },
        {
            "metadata": {},
            "cell_type": "code",
            "source": "tables = soup.find_all('table')\nlen(tables)\n\nfor index,table in enumerate(tables):\n    if (\"Tesla Quarterly Revenue\" in str(table)):\n        table_index = index\nprint(table_index)\n\ntesla_revenue = pd.DataFrame(columns=[\"Date\",\"Revenue\"])\n\nfor row in tables[table_index].tbody.find_all('tr'):\n        cols = row.find_all('td')\n        Date = cols[0].text\n        Revenue = cols[1].text\n        tesla_revenue = tesla_revenue.append({\"Date\":Date,\"Revenue\":Revenue},ignore_index=True)\ntesla_revenue",
            "execution_count": 18,
            "outputs": [
                {
                    "output_type": "stream",
                    "text": "1\n",
                    "name": "stdout"
                },
                {
                    "output_type": "execute_result",
                    "execution_count": 18,
                    "data": {
                        "text/plain": "          Date  Revenue\n0   2021-09-30  $13,757\n1   2021-06-30  $11,958\n2   2021-03-31  $10,389\n3   2020-12-31  $10,744\n4   2020-09-30   $8,771\n5   2020-06-30   $6,036\n6   2020-03-31   $5,985\n7   2019-12-31   $7,384\n8   2019-09-30   $6,303\n9   2019-06-30   $6,350\n10  2019-03-31   $4,541\n11  2018-12-31   $7,226\n12  2018-09-30   $6,824\n13  2018-06-30   $4,002\n14  2018-03-31   $3,409\n15  2017-12-31   $3,288\n16  2017-09-30   $2,985\n17  2017-06-30   $2,790\n18  2017-03-31   $2,696\n19  2016-12-31   $2,285\n20  2016-09-30   $2,298\n21  2016-06-30   $1,270\n22  2016-03-31   $1,147\n23  2015-12-31   $1,214\n24  2015-09-30     $937\n25  2015-06-30     $955\n26  2015-03-31     $940\n27  2014-12-31     $957\n28  2014-09-30     $852\n29  2014-06-30     $769\n30  2014-03-31     $621\n31  2013-12-31     $615\n32  2013-09-30     $431\n33  2013-06-30     $405\n34  2013-03-31     $562\n35  2012-12-31     $306\n36  2012-09-30      $50\n37  2012-06-30      $27\n38  2012-03-31      $30\n39  2011-12-31      $39\n40  2011-09-30      $58\n41  2011-06-30      $58\n42  2011-03-31      $49\n43  2010-12-31      $36\n44  2010-09-30      $31\n45  2010-06-30      $28\n46  2010-03-31      $21\n47  2009-12-31         \n48  2009-09-30      $46\n49  2009-06-30      $27\n50  2008-12-31         ",
                        "text/html": "<div>\n<style scoped>\n    .dataframe tbody tr th:only-of-type {\n        vertical-align: middle;\n    }\n\n    .dataframe tbody tr th {\n        vertical-align: top;\n    }\n\n    .dataframe thead th {\n        text-align: right;\n    }\n</style>\n<table border=\"1\" class=\"dataframe\">\n  <thead>\n    <tr style=\"text-align: right;\">\n      <th></th>\n      <th>Date</th>\n      <th>Revenue</th>\n    </tr>\n  </thead>\n  <tbody>\n    <tr>\n      <th>0</th>\n      <td>2021-09-30</td>\n      <td>$13,757</td>\n    </tr>\n    <tr>\n      <th>1</th>\n      <td>2021-06-30</td>\n      <td>$11,958</td>\n    </tr>\n    <tr>\n      <th>2</th>\n      <td>2021-03-31</td>\n      <td>$10,389</td>\n    </tr>\n    <tr>\n      <th>3</th>\n      <td>2020-12-31</td>\n      <td>$10,744</td>\n    </tr>\n    <tr>\n      <th>4</th>\n      <td>2020-09-30</td>\n      <td>$8,771</td>\n    </tr>\n    <tr>\n      <th>5</th>\n      <td>2020-06-30</td>\n      <td>$6,036</td>\n    </tr>\n    <tr>\n      <th>6</th>\n      <td>2020-03-31</td>\n      <td>$5,985</td>\n    </tr>\n    <tr>\n      <th>7</th>\n      <td>2019-12-31</td>\n      <td>$7,384</td>\n    </tr>\n    <tr>\n      <th>8</th>\n      <td>2019-09-30</td>\n      <td>$6,303</td>\n    </tr>\n    <tr>\n      <th>9</th>\n      <td>2019-06-30</td>\n      <td>$6,350</td>\n    </tr>\n    <tr>\n      <th>10</th>\n      <td>2019-03-31</td>\n      <td>$4,541</td>\n    </tr>\n    <tr>\n      <th>11</th>\n      <td>2018-12-31</td>\n      <td>$7,226</td>\n    </tr>\n    <tr>\n      <th>12</th>\n      <td>2018-09-30</td>\n      <td>$6,824</td>\n    </tr>\n    <tr>\n      <th>13</th>\n      <td>2018-06-30</td>\n      <td>$4,002</td>\n    </tr>\n    <tr>\n      <th>14</th>\n      <td>2018-03-31</td>\n      <td>$3,409</td>\n    </tr>\n    <tr>\n      <th>15</th>\n      <td>2017-12-31</td>\n      <td>$3,288</td>\n    </tr>\n    <tr>\n      <th>16</th>\n      <td>2017-09-30</td>\n      <td>$2,985</td>\n    </tr>\n    <tr>\n      <th>17</th>\n      <td>2017-06-30</td>\n      <td>$2,790</td>\n    </tr>\n    <tr>\n      <th>18</th>\n      <td>2017-03-31</td>\n      <td>$2,696</td>\n    </tr>\n    <tr>\n      <th>19</th>\n      <td>2016-12-31</td>\n      <td>$2,285</td>\n    </tr>\n    <tr>\n      <th>20</th>\n      <td>2016-09-30</td>\n      <td>$2,298</td>\n    </tr>\n    <tr>\n      <th>21</th>\n      <td>2016-06-30</td>\n      <td>$1,270</td>\n    </tr>\n    <tr>\n      <th>22</th>\n      <td>2016-03-31</td>\n      <td>$1,147</td>\n    </tr>\n    <tr>\n      <th>23</th>\n      <td>2015-12-31</td>\n      <td>$1,214</td>\n    </tr>\n    <tr>\n      <th>24</th>\n      <td>2015-09-30</td>\n      <td>$937</td>\n    </tr>\n    <tr>\n      <th>25</th>\n      <td>2015-06-30</td>\n      <td>$955</td>\n    </tr>\n    <tr>\n      <th>26</th>\n      <td>2015-03-31</td>\n      <td>$940</td>\n    </tr>\n    <tr>\n      <th>27</th>\n      <td>2014-12-31</td>\n      <td>$957</td>\n    </tr>\n    <tr>\n      <th>28</th>\n      <td>2014-09-30</td>\n      <td>$852</td>\n    </tr>\n    <tr>\n      <th>29</th>\n      <td>2014-06-30</td>\n      <td>$769</td>\n    </tr>\n    <tr>\n      <th>30</th>\n      <td>2014-03-31</td>\n      <td>$621</td>\n    </tr>\n    <tr>\n      <th>31</th>\n      <td>2013-12-31</td>\n      <td>$615</td>\n    </tr>\n    <tr>\n      <th>32</th>\n      <td>2013-09-30</td>\n      <td>$431</td>\n    </tr>\n    <tr>\n      <th>33</th>\n      <td>2013-06-30</td>\n      <td>$405</td>\n    </tr>\n    <tr>\n      <th>34</th>\n      <td>2013-03-31</td>\n      <td>$562</td>\n    </tr>\n    <tr>\n      <th>35</th>\n      <td>2012-12-31</td>\n      <td>$306</td>\n    </tr>\n    <tr>\n      <th>36</th>\n      <td>2012-09-30</td>\n      <td>$50</td>\n    </tr>\n    <tr>\n      <th>37</th>\n      <td>2012-06-30</td>\n      <td>$27</td>\n    </tr>\n    <tr>\n      <th>38</th>\n      <td>2012-03-31</td>\n      <td>$30</td>\n    </tr>\n    <tr>\n      <th>39</th>\n      <td>2011-12-31</td>\n      <td>$39</td>\n    </tr>\n    <tr>\n      <th>40</th>\n      <td>2011-09-30</td>\n      <td>$58</td>\n    </tr>\n    <tr>\n      <th>41</th>\n      <td>2011-06-30</td>\n      <td>$58</td>\n    </tr>\n    <tr>\n      <th>42</th>\n      <td>2011-03-31</td>\n      <td>$49</td>\n    </tr>\n    <tr>\n      <th>43</th>\n      <td>2010-12-31</td>\n      <td>$36</td>\n    </tr>\n    <tr>\n      <th>44</th>\n      <td>2010-09-30</td>\n      <td>$31</td>\n    </tr>\n    <tr>\n      <th>45</th>\n      <td>2010-06-30</td>\n      <td>$28</td>\n    </tr>\n    <tr>\n      <th>46</th>\n      <td>2010-03-31</td>\n      <td>$21</td>\n    </tr>\n    <tr>\n      <th>47</th>\n      <td>2009-12-31</td>\n      <td></td>\n    </tr>\n    <tr>\n      <th>48</th>\n      <td>2009-09-30</td>\n      <td>$46</td>\n    </tr>\n    <tr>\n      <th>49</th>\n      <td>2009-06-30</td>\n      <td>$27</td>\n    </tr>\n    <tr>\n      <th>50</th>\n      <td>2008-12-31</td>\n      <td></td>\n    </tr>\n  </tbody>\n</table>\n</div>"
                    },
                    "metadata": {}
                }
            ]
        },
        {
            "metadata": {},
            "cell_type": "markdown",
            "source": "Execute the following line to remove the comma and dollar sign from the `Revenue` column.\n"
        },
        {
            "metadata": {},
            "cell_type": "code",
            "source": "tesla_revenue[\"Revenue\"] = tesla_revenue['Revenue'].str.replace(',|\\$',\"\")",
            "execution_count": 19,
            "outputs": [
                {
                    "output_type": "stream",
                    "text": "/tmp/wsuser/ipykernel_271/349343550.py:1: FutureWarning: The default value of regex will change from True to False in a future version.\n  tesla_revenue[\"Revenue\"] = tesla_revenue['Revenue'].str.replace(',|\\$',\"\")\n",
                    "name": "stderr"
                }
            ]
        },
        {
            "metadata": {},
            "cell_type": "markdown",
            "source": "Execute the following lines to remove an null or empty strings in the Revenue column.\n"
        },
        {
            "metadata": {},
            "cell_type": "code",
            "source": "tesla_revenue.dropna(inplace=True)\n\ntesla_revenue = tesla_revenue[tesla_revenue['Revenue'] != \"\"]",
            "execution_count": 20,
            "outputs": []
        },
        {
            "metadata": {},
            "cell_type": "markdown",
            "source": "Display the last 5 row of the `tesla_revenue` dataframe using the `tail` function. Take a screenshot of the results.\n"
        },
        {
            "metadata": {},
            "cell_type": "code",
            "source": "tesla_revenue.tail()",
            "execution_count": 21,
            "outputs": [
                {
                    "output_type": "execute_result",
                    "execution_count": 21,
                    "data": {
                        "text/plain": "          Date Revenue\n44  2010-09-30      31\n45  2010-06-30      28\n46  2010-03-31      21\n48  2009-09-30      46\n49  2009-06-30      27",
                        "text/html": "<div>\n<style scoped>\n    .dataframe tbody tr th:only-of-type {\n        vertical-align: middle;\n    }\n\n    .dataframe tbody tr th {\n        vertical-align: top;\n    }\n\n    .dataframe thead th {\n        text-align: right;\n    }\n</style>\n<table border=\"1\" class=\"dataframe\">\n  <thead>\n    <tr style=\"text-align: right;\">\n      <th></th>\n      <th>Date</th>\n      <th>Revenue</th>\n    </tr>\n  </thead>\n  <tbody>\n    <tr>\n      <th>44</th>\n      <td>2010-09-30</td>\n      <td>31</td>\n    </tr>\n    <tr>\n      <th>45</th>\n      <td>2010-06-30</td>\n      <td>28</td>\n    </tr>\n    <tr>\n      <th>46</th>\n      <td>2010-03-31</td>\n      <td>21</td>\n    </tr>\n    <tr>\n      <th>48</th>\n      <td>2009-09-30</td>\n      <td>46</td>\n    </tr>\n    <tr>\n      <th>49</th>\n      <td>2009-06-30</td>\n      <td>27</td>\n    </tr>\n  </tbody>\n</table>\n</div>"
                    },
                    "metadata": {}
                }
            ]
        },
        {
            "metadata": {},
            "cell_type": "markdown",
            "source": "## Question 3: Use yfinance to Extract Stock Data\n"
        },
        {
            "metadata": {},
            "cell_type": "markdown",
            "source": "Using the `Ticker` function enter the ticker symbol of the stock we want to extract data on to create a ticker object. The stock is GameStop and its ticker symbol is `GME`.\n"
        },
        {
            "metadata": {},
            "cell_type": "code",
            "source": "GameStop = yf.Ticker(\"GME\")",
            "execution_count": 23,
            "outputs": []
        },
        {
            "metadata": {},
            "cell_type": "markdown",
            "source": "Using the ticker object and the function `history` extract stock information and save it in a dataframe named `gme_data`. Set the `period` parameter to `max` so we get information for the maximum amount of time.\n"
        },
        {
            "metadata": {},
            "cell_type": "code",
            "source": "gme_data = GameStop.history(period=\"max\")",
            "execution_count": 28,
            "outputs": []
        },
        {
            "metadata": {},
            "cell_type": "markdown",
            "source": "**Reset the index** using the `reset_index(inplace=True)` function on the gme_data DataFrame and display the first five rows of the `gme_data` dataframe using the `head` function. Take a screenshot of the results and code from the beginning of Question 3 to the results below.\n"
        },
        {
            "metadata": {},
            "cell_type": "code",
            "source": "gme_data.reset_index(inplace=True)\ngme_data.head()",
            "execution_count": 29,
            "outputs": [
                {
                    "output_type": "execute_result",
                    "execution_count": 29,
                    "data": {
                        "text/plain": "        Date      Open      High       Low     Close    Volume  Dividends  \\\n0 2002-02-13  6.480514  6.773400  6.413184  6.766667  19054000        0.0   \n1 2002-02-14  6.850828  6.864294  6.682503  6.733001   2755400        0.0   \n2 2002-02-15  6.733000  6.749832  6.632005  6.699335   2097400        0.0   \n3 2002-02-19  6.665671  6.665671  6.312188  6.430016   1852600        0.0   \n4 2002-02-20  6.463681  6.648838  6.413183  6.648838   1723200        0.0   \n\n   Stock Splits  \n0           0.0  \n1           0.0  \n2           0.0  \n3           0.0  \n4           0.0  ",
                        "text/html": "<div>\n<style scoped>\n    .dataframe tbody tr th:only-of-type {\n        vertical-align: middle;\n    }\n\n    .dataframe tbody tr th {\n        vertical-align: top;\n    }\n\n    .dataframe thead th {\n        text-align: right;\n    }\n</style>\n<table border=\"1\" class=\"dataframe\">\n  <thead>\n    <tr style=\"text-align: right;\">\n      <th></th>\n      <th>Date</th>\n      <th>Open</th>\n      <th>High</th>\n      <th>Low</th>\n      <th>Close</th>\n      <th>Volume</th>\n      <th>Dividends</th>\n      <th>Stock Splits</th>\n    </tr>\n  </thead>\n  <tbody>\n    <tr>\n      <th>0</th>\n      <td>2002-02-13</td>\n      <td>6.480514</td>\n      <td>6.773400</td>\n      <td>6.413184</td>\n      <td>6.766667</td>\n      <td>19054000</td>\n      <td>0.0</td>\n      <td>0.0</td>\n    </tr>\n    <tr>\n      <th>1</th>\n      <td>2002-02-14</td>\n      <td>6.850828</td>\n      <td>6.864294</td>\n      <td>6.682503</td>\n      <td>6.733001</td>\n      <td>2755400</td>\n      <td>0.0</td>\n      <td>0.0</td>\n    </tr>\n    <tr>\n      <th>2</th>\n      <td>2002-02-15</td>\n      <td>6.733000</td>\n      <td>6.749832</td>\n      <td>6.632005</td>\n      <td>6.699335</td>\n      <td>2097400</td>\n      <td>0.0</td>\n      <td>0.0</td>\n    </tr>\n    <tr>\n      <th>3</th>\n      <td>2002-02-19</td>\n      <td>6.665671</td>\n      <td>6.665671</td>\n      <td>6.312188</td>\n      <td>6.430016</td>\n      <td>1852600</td>\n      <td>0.0</td>\n      <td>0.0</td>\n    </tr>\n    <tr>\n      <th>4</th>\n      <td>2002-02-20</td>\n      <td>6.463681</td>\n      <td>6.648838</td>\n      <td>6.413183</td>\n      <td>6.648838</td>\n      <td>1723200</td>\n      <td>0.0</td>\n      <td>0.0</td>\n    </tr>\n  </tbody>\n</table>\n</div>"
                    },
                    "metadata": {}
                }
            ]
        },
        {
            "metadata": {},
            "cell_type": "markdown",
            "source": "## Question 4: Use Webscraping to Extract GME Revenue Data\n"
        },
        {
            "metadata": {},
            "cell_type": "markdown",
            "source": "Use the `requests` library to download the webpage [https://www.macrotrends.net/stocks/charts/GME/gamestop/revenue](https://www.macrotrends.net/stocks/charts/GME/gamestop/revenue?utm_medium=Exinfluencer&utm_source=Exinfluencer&utm_content=000026UJ&utm_term=10006555&utm_id=NA-SkillsNetwork-Channel-SkillsNetworkCoursesIBMDeveloperSkillsNetworkPY0220ENSkillsNetwork23455606-2021-01-01). Save the text of the response as a variable named `html_data`.\n"
        },
        {
            "metadata": {},
            "cell_type": "code",
            "source": "url = \"https://www.macrotrends.net/stocks/charts/GME/gamestop/revenue?utm_medium=Exinfluencer&utm_source=Exinfluencer&utm_content=000026UJ&utm_term=10006555&utm_id=NA-SkillsNetwork-Channel-SkillsNetworkCoursesIBMDeveloperSkillsNetworkPY0220ENSkillsNetwork23455606-2021-01-01\"\nhtml_data = requests.get(url).text",
            "execution_count": 30,
            "outputs": []
        },
        {
            "metadata": {},
            "cell_type": "markdown",
            "source": "Parse the html data using `beautiful_soup`.\n"
        },
        {
            "metadata": {},
            "cell_type": "code",
            "source": "soup = BeautifulSoup(html_data,\"html.parser\")",
            "execution_count": 31,
            "outputs": []
        },
        {
            "metadata": {},
            "cell_type": "markdown",
            "source": "Using `BeautifulSoup` or the `read_html` function extract the table with `GameStop Quarterly Revenue` and store it into a dataframe named `gme_revenue`. The dataframe should have columns `Date` and `Revenue`. Make sure the comma and dollar sign is removed from the `Revenue` column using a method similar to what you did in Question 2.\n"
        },
        {
            "metadata": {},
            "cell_type": "markdown",
            "source": "<details><summary>Click here if you need help locating the table</summary>\n\n```\n    \nBelow is the code to isolate the table, you will now need to loop through the rows and columns like in the previous lab\n    \nsoup.find_all(\"tbody\")[1]\n    \nIf you want to use the read_html function the table is located at index 1\n\n\n```\n\n</details>\n"
        },
        {
            "metadata": {
                "scrolled": true
            },
            "cell_type": "code",
            "source": "tables = soup.find_all('table')\nlen(tables)\n\nfor index,table in enumerate(tables):\n    if (\"GameStop Quarterly Revenue\" in str(table)):\n        table_index = index\n#print(table_index)\n\ngme_revenue = pd.DataFrame(columns=[\"Date\",\"Revenue\"])\n\nfor row in tables[table_index].tbody.find_all('tr'):\n        cols = row.find_all('td')\n        Date = cols[0].text\n        Revenue = cols[1].text\n        gme_revenue = gme_revenue.append({\"Date\":Date,\"Revenue\":Revenue},ignore_index=True)\ngme_revenue.head()",
            "execution_count": 34,
            "outputs": [
                {
                    "output_type": "execute_result",
                    "execution_count": 34,
                    "data": {
                        "text/plain": "         Date Revenue\n0  2021-07-31  $1,183\n1  2021-04-30  $1,277\n2  2021-01-31  $2,122\n3  2020-10-31  $1,005\n4  2020-07-31    $942",
                        "text/html": "<div>\n<style scoped>\n    .dataframe tbody tr th:only-of-type {\n        vertical-align: middle;\n    }\n\n    .dataframe tbody tr th {\n        vertical-align: top;\n    }\n\n    .dataframe thead th {\n        text-align: right;\n    }\n</style>\n<table border=\"1\" class=\"dataframe\">\n  <thead>\n    <tr style=\"text-align: right;\">\n      <th></th>\n      <th>Date</th>\n      <th>Revenue</th>\n    </tr>\n  </thead>\n  <tbody>\n    <tr>\n      <th>0</th>\n      <td>2021-07-31</td>\n      <td>$1,183</td>\n    </tr>\n    <tr>\n      <th>1</th>\n      <td>2021-04-30</td>\n      <td>$1,277</td>\n    </tr>\n    <tr>\n      <th>2</th>\n      <td>2021-01-31</td>\n      <td>$2,122</td>\n    </tr>\n    <tr>\n      <th>3</th>\n      <td>2020-10-31</td>\n      <td>$1,005</td>\n    </tr>\n    <tr>\n      <th>4</th>\n      <td>2020-07-31</td>\n      <td>$942</td>\n    </tr>\n  </tbody>\n</table>\n</div>"
                    },
                    "metadata": {}
                }
            ]
        },
        {
            "metadata": {},
            "cell_type": "markdown",
            "source": "Display the last five rows of the `gme_revenue` dataframe using the `tail` function. Take a screenshot of the results.\n"
        },
        {
            "metadata": {},
            "cell_type": "code",
            "source": "gme_revenue.tail()",
            "execution_count": 35,
            "outputs": [
                {
                    "output_type": "execute_result",
                    "execution_count": 35,
                    "data": {
                        "text/plain": "          Date Revenue\n62  2006-01-31  $1,667\n63  2005-10-31    $534\n64  2005-07-31    $416\n65  2005-04-30    $475\n66  2005-01-31    $709",
                        "text/html": "<div>\n<style scoped>\n    .dataframe tbody tr th:only-of-type {\n        vertical-align: middle;\n    }\n\n    .dataframe tbody tr th {\n        vertical-align: top;\n    }\n\n    .dataframe thead th {\n        text-align: right;\n    }\n</style>\n<table border=\"1\" class=\"dataframe\">\n  <thead>\n    <tr style=\"text-align: right;\">\n      <th></th>\n      <th>Date</th>\n      <th>Revenue</th>\n    </tr>\n  </thead>\n  <tbody>\n    <tr>\n      <th>62</th>\n      <td>2006-01-31</td>\n      <td>$1,667</td>\n    </tr>\n    <tr>\n      <th>63</th>\n      <td>2005-10-31</td>\n      <td>$534</td>\n    </tr>\n    <tr>\n      <th>64</th>\n      <td>2005-07-31</td>\n      <td>$416</td>\n    </tr>\n    <tr>\n      <th>65</th>\n      <td>2005-04-30</td>\n      <td>$475</td>\n    </tr>\n    <tr>\n      <th>66</th>\n      <td>2005-01-31</td>\n      <td>$709</td>\n    </tr>\n  </tbody>\n</table>\n</div>"
                    },
                    "metadata": {}
                }
            ]
        },
        {
            "metadata": {},
            "cell_type": "markdown",
            "source": "## Question 5: Plot Tesla Stock Graph\n"
        },
        {
            "metadata": {},
            "cell_type": "markdown",
            "source": "Use the `make_graph` function to graph the Tesla Stock Data, also provide a title for the graph. The structure to call the `make_graph` function is `make_graph(tesla_data, tesla_revenue, 'Tesla')`. Note the graph will only show data upto June 2021.\n"
        },
        {
            "metadata": {},
            "cell_type": "code",
            "source": "def make_graph(tesla_data, tesla_revenue):\n    fig = make_subplots(rows=2, cols=1, shared_xaxes=True, subplot_titles=(\"Historical Share Price\", \"Historical Revenue\"), vertical_spacing = .3)\n    tesla_data_specific = tesla_data[tesla_data.Date <= '2021--06-14']\n    tesla_revenue_specific = tesla_revenue[tesla_revenue.Date <= '2021-04-30']\n    fig.add_trace(go.Scatter(x=pd.to_datetime(tesla_data_specific.Date, infer_datetime_format=True), y=stock_data_specific.Close.astype(\"float\"), name=\"Share Price\"), row=1, col=1)\n    fig.add_trace(go.Scatter(x=pd.to_datetime(tesla_revenue_specific.Date, infer_datetime_format=True), y=revenue_data_specific.Revenue.astype(\"float\"), name=\"Revenue\"), row=2, col=1)\n    fig.update_xaxes(title_text=\"Date\", row=1, col=1)\n    fig.update_xaxes(title_text=\"Date\", row=2, col=1)\n    fig.update_yaxes(title_text=\"Price ($US)\", row=1, col=1)\n    fig.update_yaxes(title_text=\"Revenue ($US Millions)\", row=2, col=1)\n    fig.update_layout(showlegend=True,\n    height=900,\n    title=tesla,\n    xaxis_rangeslider_visible=True)\n    fig.show()",
            "execution_count": 54,
            "outputs": []
        },
        {
            "metadata": {},
            "cell_type": "markdown",
            "source": "## Question 6: Plot GameStop Stock Graph\n"
        },
        {
            "metadata": {},
            "cell_type": "markdown",
            "source": "Use the `make_graph` function to graph the GameStop Stock Data, also provide a title for the graph. The structure to call the `make_graph` function is `make_graph(gme_data, gme_revenue, 'GameStop')`. Note the graph will only show data upto June 2021.\n"
        },
        {
            "metadata": {},
            "cell_type": "code",
            "source": "def make_graph(gme_data, gme_revenue):\n    fig = make_subplots(rows=2, cols=1, shared_xaxes=True, subplot_titles=(\"Historical Share Price\", \"Historical Revenue\"), vertical_spacing = .3)\n    gme_data_specific = gme_data[gme_data.Date <= '2021--06-14']\n    gme_revenue_specific = gme_revenue[gme_revenue.Date <= '2021-04-30']\n    fig.add_trace(go.Scatter(x=pd.to_datetime(gme_data_specific.Date, infer_datetime_format=True), y=stock_data_specific.Close.astype(\"float\"), name=\"Share Price\"), row=1, col=1)\n    fig.add_trace(go.Scatter(x=pd.to_datetime(gme_revenue_specific.Date, infer_datetime_format=True), y=revenue_data_specific.Revenue.astype(\"float\"), name=\"Revenue\"), row=2, col=1)\n    fig.update_xaxes(title_text=\"Date\", row=1, col=1)\n    fig.update_xaxes(title_text=\"Date\", row=2, col=1)\n    fig.update_yaxes(title_text=\"Price ($US)\", row=1, col=1)\n    fig.update_yaxes(title_text=\"Revenue ($US Millions)\", row=2, col=1)\n    fig.update_layout(showlegend=True,\n    height=900,\n    title=GameStop,\n    xaxis_rangeslider_visible=True)\n    fig.show()",
            "execution_count": 56,
            "outputs": []
        },
        {
            "metadata": {},
            "cell_type": "markdown",
            "source": "<h2>About the Authors:</h2> \n\n<a href=\"https://www.linkedin.com/in/joseph-s-50398b136/?utm_medium=Exinfluencer&utm_source=Exinfluencer&utm_content=000026UJ&utm_term=10006555&utm_id=NA-SkillsNetwork-Channel-SkillsNetworkCoursesIBMDeveloperSkillsNetworkPY0220ENSkillsNetwork23455606-2021-01-01\">Joseph Santarcangelo</a> has a PhD in Electrical Engineering, his research focused on using machine learning, signal processing, and computer vision to determine how videos impact human cognition. Joseph has been working for IBM since he completed his PhD.\n\nAzim Hirjani\n"
        },
        {
            "metadata": {},
            "cell_type": "markdown",
            "source": "## Change Log\n\n| Date (YYYY-MM-DD) | Version | Changed By    | Change Description        |\n| ----------------- | ------- | ------------- | ------------------------- |\n| 2020-11-10        | 1.1     | Malika Singla | Deleted the Optional part |\n| 2020-08-27        | 1.0     | Malika Singla | Added lab to GitLab       |\n\n<hr>\n\n## <h3 align=\"center\"> \u00a9 IBM Corporation 2020. All rights reserved. <h3/>\n\n<p>\n"
        }
    ],
    "metadata": {
        "kernelspec": {
            "name": "python3",
            "display_name": "Python 3.8",
            "language": "python"
        },
        "language_info": {
            "name": "python",
            "version": "3.8.12",
            "mimetype": "text/x-python",
            "codemirror_mode": {
                "name": "ipython",
                "version": 3
            },
            "pygments_lexer": "ipython3",
            "nbconvert_exporter": "python",
            "file_extension": ".py"
        }
    },
    "nbformat": 4,
    "nbformat_minor": 4
}